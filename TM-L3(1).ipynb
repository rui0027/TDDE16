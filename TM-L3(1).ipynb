{
 "cells": [
  {
   "cell_type": "markdown",
   "metadata": {},
   "source": [
    "# L3: Text clustering and topic modelling"
   ]
  },
  {
   "cell_type": "markdown",
   "metadata": {},
   "source": [
    "Text clustering groups documents in such a way that documents within a group are more &lsquo;similar&rsquo; to other documents in the cluster than to documents not in the cluster. The exact definition of what &lsquo;similar&rsquo; means in this context varies across applications and clustering algorithms.\n",
    "\n",
    "In this lab you will experiment with both hard and soft clustering techniques. More specifically, in the first part you will be using the $k$-means algorithm, and in the second part you will be using a topic model based on the Latent Dirichlet Allocation (LDA)."
   ]
  },
  {
   "cell_type": "markdown",
   "metadata": {},
   "source": [
    "**A quick reminder about our [Rules for hand-in assignments](https://www.ida.liu.se/~TDDE16/exam.en.shtml#handins) and the [Policy on cheating and plagiarism](https://www.ida.liu.se/~TDDE16/exam.en.shtml#cheating)**"
   ]
  },
  {
   "cell_type": "markdown",
   "metadata": {},
   "source": [
    "## Hard clustering data set"
   ]
  },
  {
   "cell_type": "markdown",
   "metadata": {},
   "source": [
    "The raw data for the hard clustering part of this lab is a collection of product reviews. We have preprocessed the data by tokenization and lowercasing."
   ]
  },
  {
   "cell_type": "code",
   "execution_count": 117,
   "metadata": {},
   "outputs": [],
   "source": [
    "import pandas as pd\n",
    "import bz2\n",
    "\n",
    "with bz2.open('reviews.json.bz2') as source:\n",
    "    df = pd.read_json(source)"
   ]
  },
  {
   "cell_type": "markdown",
   "metadata": {},
   "source": [
    "When you inspect the data frame, you can see that there are three labelled columns: `category` (the product category), `sentiment` (whether the product review was classified as &lsquo;positive&rsquo; or &lsquo;negative&rsquo; towards the product), and `text` (the space-separated text of the review)."
   ]
  },
  {
   "cell_type": "code",
   "execution_count": 118,
   "metadata": {},
   "outputs": [
    {
     "data": {
      "text/html": [
       "<div>\n",
       "<style scoped>\n",
       "    .dataframe tbody tr th:only-of-type {\n",
       "        vertical-align: middle;\n",
       "    }\n",
       "\n",
       "    .dataframe tbody tr th {\n",
       "        vertical-align: top;\n",
       "    }\n",
       "\n",
       "    .dataframe thead th {\n",
       "        text-align: right;\n",
       "    }\n",
       "</style>\n",
       "<table border=\"1\" class=\"dataframe\">\n",
       "  <thead>\n",
       "    <tr style=\"text-align: right;\">\n",
       "      <th></th>\n",
       "      <th>category</th>\n",
       "      <th>sentiment</th>\n",
       "      <th>text</th>\n",
       "    </tr>\n",
       "  </thead>\n",
       "  <tbody>\n",
       "    <tr>\n",
       "      <th>0</th>\n",
       "      <td>music</td>\n",
       "      <td>neg</td>\n",
       "      <td>i bought this album because i loved the title ...</td>\n",
       "    </tr>\n",
       "    <tr>\n",
       "      <th>1</th>\n",
       "      <td>music</td>\n",
       "      <td>neg</td>\n",
       "      <td>i was misled and thought i was buying the enti...</td>\n",
       "    </tr>\n",
       "    <tr>\n",
       "      <th>2</th>\n",
       "      <td>books</td>\n",
       "      <td>neg</td>\n",
       "      <td>i have introduced many of my ell , high school...</td>\n",
       "    </tr>\n",
       "    <tr>\n",
       "      <th>3</th>\n",
       "      <td>books</td>\n",
       "      <td>pos</td>\n",
       "      <td>anything you purchase in the left behind serie...</td>\n",
       "    </tr>\n",
       "    <tr>\n",
       "      <th>4</th>\n",
       "      <td>dvd</td>\n",
       "      <td>pos</td>\n",
       "      <td>i loved these movies , and i cant wiat for the...</td>\n",
       "    </tr>\n",
       "  </tbody>\n",
       "</table>\n",
       "</div>"
      ],
      "text/plain": [
       "  category sentiment                                               text\n",
       "0    music       neg  i bought this album because i loved the title ...\n",
       "1    music       neg  i was misled and thought i was buying the enti...\n",
       "2    books       neg  i have introduced many of my ell , high school...\n",
       "3    books       pos  anything you purchase in the left behind serie...\n",
       "4      dvd       pos  i loved these movies , and i cant wiat for the..."
      ]
     },
     "execution_count": 118,
     "metadata": {},
     "output_type": "execute_result"
    }
   ],
   "source": [
    "df.head()"
   ]
  },
  {
   "cell_type": "markdown",
   "metadata": {},
   "source": [
    "## Problem 1: K-means clustering"
   ]
  },
  {
   "cell_type": "markdown",
   "metadata": {},
   "source": [
    "Your first task is to cluster the product review data using a tf–idf vectorizer and a $k$-means clusterer."
   ]
  },
  {
   "cell_type": "markdown",
   "metadata": {},
   "source": [
    "Start by doing the vectorization. In connection with vectorization, you should also filter out standard English stop words. While you could use [spaCy](https://spacy.io/) for this task, here it suffices to use the word list implemented in [TfidfVectorizer](https://scikit-learn.org/stable/modules/generated/sklearn.feature_extraction.text.TfidfVectorizer.html)."
   ]
  },
  {
   "cell_type": "code",
   "execution_count": 122,
   "metadata": {},
   "outputs": [],
   "source": [
    "# TODO: Enter code here to vectorize the data and store it in a variable `reviews`\n",
    "from sklearn.feature_extraction.text import TfidfVectorizer\n",
    "\n",
    "# vectorize\n",
    "vectorizer = TfidfVectorizer(stop_words='english')\n",
    "reviews = vectorizer.fit_transform(df['text'])"
   ]
  },
  {
   "cell_type": "markdown",
   "metadata": {},
   "source": [
    "Test your vectorization by running the following code cell:"
   ]
  },
  {
   "cell_type": "code",
   "execution_count": 123,
   "metadata": {},
   "outputs": [
    {
     "data": {
      "text/plain": [
       "(11914, 46619)"
      ]
     },
     "execution_count": 123,
     "metadata": {},
     "output_type": "execute_result"
    }
   ],
   "source": [
    "reviews.shape"
   ]
  },
  {
   "cell_type": "markdown",
   "metadata": {},
   "source": [
    "If you used the English stop word list from scikit-learn, then the resulting vocabulary should have 46,619 entries."
   ]
  },
  {
   "cell_type": "markdown",
   "metadata": {},
   "source": [
    "Next, cluster the vectorized data. Before doing so, you should read the documentation of the [KMeans](https://scikit-learn.org/stable/modules/generated/sklearn.cluster.KMeans.html) class, which is scikit-learn&rsquo;s implementation of the $k$-means algorithm. As you can see, this class has several parameters that you can tweak. For now, the only parameter that you will have to set is the number of clusters. Start with $k=3$.\n",
    "\n",
    "**Tip:** Training $k$-means models will take some time. To speed things up, you can use the `n_init` parameter to control the number of times that the clustering is re-computed with different initial values. The default value for this parameter is 10; here and in the rest of this lab, you may want to set this to a lower value."
   ]
  },
  {
   "cell_type": "code",
   "execution_count": 124,
   "metadata": {},
   "outputs": [],
   "source": [
    "# TODO: Enter code here to cluster the vectorized data\n",
    "from sklearn.cluster import KMeans\n",
    "\n",
    "n_class=3\n",
    "kmeans = KMeans(n_clusters=n_class,n_init=6).fit(reviews)"
   ]
  },
  {
   "cell_type": "markdown",
   "metadata": {},
   "source": [
    "To sanity-check your clustering, create a bar plot with the number of documents per cluster."
   ]
  },
  {
   "cell_type": "code",
   "execution_count": 143,
   "metadata": {},
   "outputs": [
    {
     "data": {
      "text/plain": [
       "Text(0, 0.5, 'Numbers')"
      ]
     },
     "execution_count": 143,
     "metadata": {},
     "output_type": "execute_result"
    },
    {
     "data": {
      "image/png": "[encoded data removed]",
      "text/plain": [
       "<Figure size 640x480 with 1 Axes>"
      ]
     },
     "metadata": {},
     "output_type": "display_data"
    }
   ],
   "source": [
    "# TODO: Enter code here to produce a bar plot of the cluster size\n",
    "import matplotlib.pyplot as plt\n",
    "y = (len(kmeans.labels_[kmeans.labels_==0]),len(kmeans.labels_[kmeans.labels_==1]),len(kmeans.labels_[kmeans.labels_==2]))\n",
    "plt.bar((0,1,2),y)\n",
    "plt.xlabel(\"Cluster\", labelpad=14)\n",
    "plt.ylabel(\"Numbers\", labelpad=14)"
   ]
  },
  {
   "cell_type": "markdown",
   "metadata": {},
   "source": [
    "Note that sizes may vary considerable between clusters and among different random seeds."
   ]
  },
  {
   "cell_type": "markdown",
   "metadata": {},
   "source": [
    "## Problem 2: Summarize clusters"
   ]
  },
  {
   "cell_type": "markdown",
   "metadata": {},
   "source": [
    "Once you have a clustering, you can try to see whether it is meaningful. One useful technique in that context is to generate a **summary** for each cluster by extracting the $n$ highest-weighted terms from the centroid of each cluster. Your next task is to implement this approach.\n",
    "\n",
    "**Hint:** You will need to construct an &lsquo;inverted vocabulary&rsquo; that allows you to map from the index of a term back to the original term."
   ]
  },
  {
   "cell_type": "code",
   "execution_count": 152,
   "metadata": {},
   "outputs": [],
   "source": [
    "#vectorizer.vocabulary_"
   ]
  },
  {
   "cell_type": "code",
   "execution_count": 166,
   "metadata": {},
   "outputs": [
    {
     "name": "stdout",
     "output_type": "stream",
     "text": [
      "cluster:0, highest-weighted terms:['movie', 'film', 'movies', 'like', 'story', 'watch', 'just', 'good', 'great', 'acting']\n",
      "cluster:1, highest-weighted terms:['camera', 'lens', 'pictures', 'canon', 'digital', 'use', 'battery', 'flash', 'quality', 'great']\n",
      "cluster:2, highest-weighted terms:['book', 'like', 'product', 'just', 'great', 'good', 'cd', 'use', 'album', 'time']\n"
     ]
    }
   ],
   "source": [
    "# TODO: Enter code here to compute the cluster summaries and print them\n",
    "n_extr = 10\n",
    "centroids = kmeans.cluster_centers_\n",
    "vocabulary = vectorizer.get_feature_names()\n",
    "\n",
    "summary=[]\n",
    "for i in range(n_class):\n",
    "    # get index of highest-weighted terms\n",
    "    index = centroids[i].argsort()[::-1][:n_extr]\n",
    "    # get words from vocabulary\n",
    "    terms = [vocabulary[i] for i in index]\n",
    "    print(f'cluster:{i}, highest-weighted terms:{terms}')"
   ]
  },
  {
   "cell_type": "markdown",
   "metadata": {},
   "source": [
    "Once you have computed the cluster summaries, take a minute to reflect on their quality. Is it clear what the reviews in a given cluster are about? Do the cluster summaries contain any unexpected terms?"
   ]
  },
  {
   "cell_type": "markdown",
   "metadata": {},
   "source": [
    "## Problem 3: Compare clusterings using the Rand index"
   ]
  },
  {
   "cell_type": "markdown",
   "metadata": {},
   "source": [
    "In some scenarios, you may have gold-standard class labels available for at least a subset of your documents. In these cases you can compute the **Rand index** of a clustering, and use this measure to compare the quality of different clusterings.\n",
    "\n",
    "To compute the Rand index, we view a clustering as a binary classifier on (unordered) pairs of documents. The classifier predicts &lsquo;positive&rsquo; if and only if the two documents belong to the same cluster. The (non-normalized) Rand index of the clustering is the accuracy of this classifier relative to a reference in which a document pair belongs to the &lsquo;positive&rsquo; class if and only if the two documents in the pair have the same gold-standard class label. You are supposed to implement the procedure yourselves, not import an external function.\n",
    "\n",
    "Compare clusterings with $k \\in \\{1,3,5,7\\}$ clusters. As your evaluation data, use the first 500 documents from the original data set along with their gold-standard categories (from the `category` column)."
   ]
  },
  {
   "cell_type": "code",
   "execution_count": 173,
   "metadata": {},
   "outputs": [
    {
     "name": "stdout",
     "output_type": "stream",
     "text": [
      "1 clusters, rand index: 0.16626052104208416\n",
      "3 clusters, rand index: 0.6374669338677355\n",
      "5 clusters, rand index: 0.6641923847695391\n",
      "7 clusters, rand index: 0.7764248496993988\n"
     ]
    }
   ],
   "source": [
    "# TODO: Enter code here to (manually) compute the Rand indices for the two clusterings\n",
    "import itertools\n",
    "\n",
    "n_list = [1,3,5,7]\n",
    "x = reviews[0:500,:]\n",
    "standard = df['category'][0:500]\n",
    "\n",
    "for i in n_list:\n",
    "    kmeans = KMeans(n_clusters=i,n_init=6).fit(x)\n",
    "    labels = kmeans.labels_\n",
    "\n",
    "    pairs = list(itertools.combinations(range(500), 2))\n",
    "    sum_ = sum([1 for x in pairs if (labels[x[0]]==labels[x[1]] and standard[x[0]]==standard[x[1]]) or (labels[x[0]]!=labels[x[1]] and standard[x[0]]!=standard[x[1]])])\n",
    "    accuracy = sum_/(500*499/2)\n",
    "    print(f'{i} clusters, rand index: {accuracy}')\n"
   ]
  },
  {
   "cell_type": "markdown",
   "metadata": {},
   "source": [
    "*TODO: Insert a summary of your results here*"
   ]
  },
  {
   "cell_type": "markdown",
   "metadata": {},
   "source": [
    "## Topic modelling data set"
   ]
  },
  {
   "cell_type": "markdown",
   "metadata": {},
   "source": [
    "The data set for the topic modelling part of this lab is the collection of all [State of the Union](https://en.wikipedia.org/wiki/State_of_the_Union) addresses from the years 1975–2000. These speeches come as a single text file with one sentence per line. The following code cell prints the first 5 lines from the data file:"
   ]
  },
  {
   "cell_type": "code",
   "execution_count": 1,
   "metadata": {},
   "outputs": [
    {
     "name": "stdout",
     "output_type": "stream",
     "text": [
      "mr speaker mr vice president members of the 94th congress and distinguished guests\n",
      "twenty six years ago a freshman congressman a young fellow with lots of idealism who was out to change the world stood before sam rayburn in the well of the house and solemnly swore to the same oath that all of you took yesterday an unforgettable experience and i congratulate you all\n",
      "two days later that same freshman stood at the back of this great chamber over there someplace as president truman all charged up by his single handed election victory reported as the constitution requires on the state of the union\n",
      "when the bipartisan applause stopped president truman said i am happy to report to this 81st congress that the state of the union is good our nation is better able than ever before to meet the needs of the american people and to give them their fair chance in the pursuit of happiness it is foremost among the nations of the world in the search for peace\n",
      "today that freshman member from michigan stands where mr truman stood and i must say to you that the state of the union is not good\n",
      "millions of americans are out of work\n"
     ]
    }
   ],
   "source": [
    "with open('sotu_1975_2000.txt') as source:\n",
    "    for i, line in enumerate(source):\n",
    "        print(line.rstrip())\n",
    "        if i >= 5:\n",
    "            break"
   ]
  },
  {
   "cell_type": "markdown",
   "metadata": {},
   "source": [
    "Take a few minutes to think about what topics you would expect in this data set."
   ]
  },
  {
   "cell_type": "markdown",
   "metadata": {},
   "source": [
    "## Problem 4: Train a topic model"
   ]
  },
  {
   "cell_type": "markdown",
   "metadata": {},
   "source": [
    "Your first task on the topic modelling data is to train an LDA model. For this task you will be using [spaCy](https://spacy.io/) and the [gensim](https://radimrehurek.com/gensim/) topic modelling library.\n",
    "\n",
    "Start by preprocessing the data using spaCy. Given that the data set for this problem is rather small, you do not have to exclude any components from the standard pipeline. Filter out stop words, non-alphabetic tokens, and tokens less than 3 characters in length. Store the documents as a nested list where the first level of nesting corresponds to the sentences and the second level corresponds to the tokens in each sentence."
   ]
  },
  {
   "cell_type": "code",
   "execution_count": 37,
   "metadata": {},
   "outputs": [],
   "source": [
    "# TODO: Replace the following lines with your own code for preprocessing the documents\n",
    "from spacy.tokens import Doc\n",
    "\n",
    "with open('sotu_1975_2000.txt') as source:\n",
    "    text = [line.split() for line in source]\n",
    "    \n",
    "    nlp = spacy.load('en_core_web_sm')\n",
    "    documents = []\n",
    "    for line in text:\n",
    "        doc=Doc(nlp.vocab,line)\n",
    "        line_token=[]\n",
    "        for x in nlp(doc):\n",
    "            if x.is_stop==False and x.is_alpha==True and len(x)>=3:\n",
    "                line_token.append(str(x))\n",
    "        documents.append(line_token)\n",
    "    "
   ]
  },
  {
   "cell_type": "markdown",
   "metadata": {},
   "source": [
    "Test your preprocessing by running the following cell:"
   ]
  },
  {
   "cell_type": "code",
   "execution_count": 47,
   "metadata": {},
   "outputs": [
    {
     "data": {
      "text/plain": [
       "'reduce oil imports million barrels day end year million barrels day end'"
      ]
     },
     "execution_count": 47,
     "metadata": {},
     "output_type": "execute_result"
    }
   ],
   "source": [
    "' '.join(documents[42])"
   ]
  },
  {
   "cell_type": "markdown",
   "metadata": {},
   "source": [
    "You should get the following output:"
   ]
  },
  {
   "cell_type": "raw",
   "metadata": {},
   "source": [
    "'reduce oil imports million barrels day end year million barrels day end'"
   ]
  },
  {
   "cell_type": "markdown",
   "metadata": {},
   "source": [
    "Once you have the list of documents, skim the section [Pre-process and vectorize the documents](https://radimrehurek.com/gensim/auto_examples/tutorials/run_lda.html#pre-process-and-vectorize-the-documents) of the gensim documentation to learn how to create the dictionary and the vectorized corpus representation required by gensim. (Note that you cannot use the standard scikit-learn pipeline in this case.) Then, write code to train an [LdaModel](https://radimrehurek.com/gensim/models/ldamodel.html) for $k=10$ topics, and using default values for all other parameters."
   ]
  },
  {
   "cell_type": "code",
   "execution_count": 82,
   "metadata": {},
   "outputs": [],
   "source": [
    "# TODO: Enter code here to train an LDA model and store it in a variable `model`\n",
    "\n",
    "from gensim.corpora.dictionary import Dictionary\n",
    "import gensim.models.ldamodel\n",
    "\n",
    "dictionary = Dictionary(documents)\n",
    "corpus = [dictionary.doc2bow(doc) for doc in documents]\n",
    "\n",
    "model = LdaModel(corpus, num_topics=10,id2word=dictionary)"
   ]
  },
  {
   "cell_type": "markdown",
   "metadata": {},
   "source": [
    "Once you have a trained model, run the following cell to print the topics:"
   ]
  },
  {
   "cell_type": "code",
   "execution_count": 85,
   "metadata": {},
   "outputs": [
    {
     "name": "stdout",
     "output_type": "stream",
     "text": [
      "[(0,\n",
      "  '0.016*\"children\" + 0.012*\"world\" + 0.009*\"new\" + 0.009*\"america\" + '\n",
      "  '0.008*\"year\" + 0.008*\"people\" + 0.007*\"child\" + 0.007*\"health\" + '\n",
      "  '0.007*\"care\" + 0.007*\"century\"'),\n",
      " (1,\n",
      "  '0.018*\"america\" + 0.012*\"year\" + 0.011*\"years\" + 0.009*\"people\" + '\n",
      "  '0.009*\"work\" + 0.007*\"world\" + 0.007*\"americans\" + 0.007*\"children\" + '\n",
      "  '0.006*\"schools\" + 0.006*\"families\"'),\n",
      " (2,\n",
      "  '0.010*\"government\" + 0.008*\"america\" + 0.008*\"education\" + 0.007*\"years\" + '\n",
      "  '0.007*\"let\" + 0.006*\"new\" + 0.006*\"americans\" + 0.006*\"world\" + '\n",
      "  '0.005*\"american\" + 0.005*\"tonight\"'),\n",
      " (3,\n",
      "  '0.009*\"world\" + 0.009*\"let\" + 0.009*\"new\" + 0.008*\"years\" + 0.008*\"people\" '\n",
      "  '+ 0.007*\"know\" + 0.007*\"security\" + 0.006*\"america\" + 0.005*\"scientists\" + '\n",
      "  '0.005*\"budget\"'),\n",
      " (4,\n",
      "  '0.016*\"new\" + 0.009*\"america\" + 0.009*\"people\" + 0.008*\"nation\" + '\n",
      "  '0.006*\"years\" + 0.006*\"congress\" + 0.005*\"communities\" + 0.005*\"ought\" + '\n",
      "  '0.005*\"know\" + 0.005*\"right\"'),\n",
      " (5,\n",
      "  '0.014*\"people\" + 0.009*\"new\" + 0.008*\"year\" + 0.008*\"government\" + '\n",
      "  '0.008*\"congress\" + 0.007*\"let\" + 0.007*\"help\" + 0.007*\"american\" + '\n",
      "  '0.006*\"tonight\" + 0.006*\"america\"'),\n",
      " (6,\n",
      "  '0.010*\"work\" + 0.010*\"new\" + 0.009*\"americans\" + 0.008*\"help\" + '\n",
      "  '0.007*\"years\" + 0.006*\"people\" + 0.006*\"year\" + 0.006*\"security\" + '\n",
      "  '0.006*\"budget\" + 0.006*\"way\"'),\n",
      " (7,\n",
      "  '0.014*\"new\" + 0.011*\"congress\" + 0.008*\"americans\" + 0.007*\"president\" + '\n",
      "  '0.007*\"national\" + 0.006*\"people\" + 0.006*\"america\" + 0.006*\"years\" + '\n",
      "  '0.005*\"world\" + 0.005*\"states\"'),\n",
      " (8,\n",
      "  '0.013*\"congress\" + 0.011*\"work\" + 0.009*\"people\" + 0.008*\"government\" + '\n",
      "  '0.008*\"know\" + 0.007*\"year\" + 0.007*\"help\" + 0.007*\"support\" + '\n",
      "  '0.006*\"american\" + 0.006*\"want\"'),\n",
      " (9,\n",
      "  '0.013*\"people\" + 0.011*\"children\" + 0.009*\"american\" + 0.009*\"thank\" + '\n",
      "  '0.008*\"health\" + 0.007*\"parents\" + 0.007*\"america\" + 0.007*\"college\" + '\n",
      "  '0.006*\"child\" + 0.006*\"new\"')]\n"
     ]
    }
   ],
   "source": [
    "from pprint import pprint\n",
    "pprint(model.show_topics())"
   ]
  },
  {
   "cell_type": "markdown",
   "metadata": {},
   "source": [
    "Inspect the topics. Can you &lsquo;label&rsquo; each topic with a short description of what it is about? Do the topics match your expectations?"
   ]
  },
  {
   "cell_type": "markdown",
   "metadata": {},
   "source": [
    "## Problem 5: Monitor a topic model for convergence"
   ]
  },
  {
   "cell_type": "markdown",
   "metadata": {},
   "source": [
    "When learning an LDA model, it is important to make sure that the training algorithm has converged to a stable posterior distribution. One way to do so is to plot, after each training epochs (or &lsquo;pass&rsquo;, in gensim parlance) the log likelihood of the training data under the posterior. Your last task in this lab is to create such a plot and, based on this, to suggest an appropriate number of epochs.\n",
    "\n",
    "To collect information about the posterior likelihood after each pass, we need to enable the logging facilities of gensim. Once this is done, gensim will add various diagnostics to a log file `gensim.log`."
   ]
  },
  {
   "cell_type": "code",
   "execution_count": 106,
   "metadata": {},
   "outputs": [],
   "source": [
    "import logging\n",
    "\n",
    "logging.basicConfig(filename='gensim.log', format='%(asctime)s:%(levelname)s:%(message)s', level=logging.INFO)"
   ]
  },
  {
   "cell_type": "markdown",
   "metadata": {},
   "source": [
    "The following function will parse the generated logfile and return the list of log likelihoods."
   ]
  },
  {
   "cell_type": "code",
   "execution_count": 107,
   "metadata": {},
   "outputs": [],
   "source": [
    "import re\n",
    "\n",
    "def parse_logfile():\n",
    "    matcher = re.compile('(-*\\d+\\.\\d+) per-word .* (\\d+\\.\\d+) perplexity')\n",
    "    likelihoods = []\n",
    "    with open('gensim.log') as source:\n",
    "        for line in source:\n",
    "            match = matcher.search(line)\n",
    "            if match:\n",
    "                likelihoods.append(float(match.group(1)))\n",
    "    return likelihoods"
   ]
  },
  {
   "cell_type": "markdown",
   "metadata": {},
   "source": [
    "Your task now is to re-train your LDA model for 50&nbsp;passes, retrieve the list of log likelihoods, and create a plot from this data."
   ]
  },
  {
   "cell_type": "code",
   "execution_count": 108,
   "metadata": {},
   "outputs": [],
   "source": [
    "# TODO: Enter code here to generate the convergence plot\n",
    "model = LdaModel(corpus, num_topics=10,id2word=dictionary,passes=50)\n",
    "loglike = parse_logfile()"
   ]
  },
  {
   "cell_type": "code",
   "execution_count": 114,
   "metadata": {},
   "outputs": [
    {
     "data": {
      "text/plain": [
       "Text(0, 0.5, 'loglikelihood')"
      ]
     },
     "execution_count": 114,
     "metadata": {},
     "output_type": "execute_result"
    },
    {
     "data": {
      "image/png": "[encoded data removed]",
      "text/plain": [
       "<Figure size 640x480 with 1 Axes>"
      ]
     },
     "metadata": {},
     "output_type": "display_data"
    }
   ],
   "source": [
    "log = loglike[(len(loglike)-50):]\n",
    "plt.plot(range(len(log)),log)\n",
    "plt.xlabel(\"epoches\", labelpad=14)\n",
    "plt.ylabel(\"loglikelihood\", labelpad=14)"
   ]
  },
  {
   "cell_type": "markdown",
   "metadata": {},
   "source": [
    "How do you interpret your plot? Based on the plot, what would be a reasonable choice for the number of passes? Retrain your LDA model with that number and re-inspect the topics it finds. Do you consider the new topics to be &lsquo;better&rsquo; than the ones that you got from the 1-pass model in Problem&nbsp;4?"
   ]
  },
  {
   "cell_type": "markdown",
   "metadata": {},
   "source": [
    "**From the plot above, we can see the loglikelihood kept increasing at first and after 5 epoches it remained at a steady level. So 5 epoches are reasonable for the model.**"
   ]
  },
  {
   "cell_type": "code",
   "execution_count": 116,
   "metadata": {},
   "outputs": [
    {
     "name": "stdout",
     "output_type": "stream",
     "text": [
      "[(0,\n",
      "  '0.025*\"america\" + 0.012*\"new\" + 0.011*\"world\" + 0.011*\"peace\" + '\n",
      "  '0.011*\"people\" + 0.009*\"nation\" + 0.008*\"century\" + 0.008*\"americans\" + '\n",
      "  '0.008*\"freedom\" + 0.008*\"great\"'),\n",
      " (1,\n",
      "  '0.012*\"trade\" + 0.010*\"world\" + 0.010*\"new\" + 0.008*\"states\" + '\n",
      "  '0.006*\"america\" + 0.006*\"united\" + 0.006*\"global\" + 0.006*\"economy\" + '\n",
      "  '0.005*\"soviet\" + 0.005*\"continue\"'),\n",
      " (2,\n",
      "  '0.025*\"years\" + 0.013*\"year\" + 0.012*\"new\" + 0.008*\"teachers\" + '\n",
      "  '0.008*\"people\" + 0.008*\"million\" + 0.007*\"congress\" + 0.007*\"percent\" + '\n",
      "  '0.007*\"budget\" + 0.007*\"jobs\"'),\n",
      " (3,\n",
      "  '0.019*\"nuclear\" + 0.013*\"weapons\" + 0.008*\"year\" + 0.007*\"treaty\" + '\n",
      "  '0.007*\"nations\" + 0.007*\"america\" + 0.007*\"god\" + 0.006*\"bless\" + '\n",
      "  '0.006*\"senate\" + 0.006*\"international\"'),\n",
      " (4,\n",
      "  '0.021*\"welfare\" + 0.018*\"work\" + 0.011*\"people\" + 0.011*\"child\" + '\n",
      "  '0.010*\"children\" + 0.009*\"challenge\" + 0.008*\"reform\" + 0.007*\"wage\" + '\n",
      "  '0.007*\"tonight\" + 0.007*\"state\"'),\n",
      " (5,\n",
      "  '0.025*\"children\" + 0.016*\"people\" + 0.014*\"let\" + 0.012*\"care\" + '\n",
      "  '0.010*\"schools\" + 0.010*\"health\" + 0.010*\"work\" + 0.009*\"year\" + '\n",
      "  '0.009*\"parents\" + 0.009*\"ask\"'),\n",
      " (6,\n",
      "  '0.012*\"world\" + 0.010*\"people\" + 0.009*\"know\" + 0.008*\"american\" + '\n",
      "  '0.008*\"security\" + 0.007*\"government\" + 0.007*\"america\" + 0.006*\"country\" + '\n",
      "  '0.006*\"forces\" + 0.005*\"years\"'),\n",
      " (7,\n",
      "  '0.025*\"new\" + 0.013*\"energy\" + 0.008*\"environment\" + 0.008*\"congress\" + '\n",
      "  '0.008*\"space\" + 0.007*\"science\" + 0.007*\"national\" + 0.006*\"clean\" + '\n",
      "  '0.006*\"water\" + 0.005*\"policy\"'),\n",
      " (8,\n",
      "  '0.010*\"world\" + 0.009*\"people\" + 0.009*\"america\" + 0.008*\"community\" + '\n",
      "  '0.007*\"crime\" + 0.006*\"years\" + 0.006*\"congress\" + 0.005*\"long\" + '\n",
      "  '0.005*\"working\" + 0.005*\"immigrants\"'),\n",
      " (9,\n",
      "  '0.013*\"tax\" + 0.011*\"government\" + 0.011*\"federal\" + 0.009*\"budget\" + '\n",
      "  '0.009*\"year\" + 0.009*\"families\" + 0.009*\"congress\" + 0.007*\"new\" + '\n",
      "  '0.007*\"programs\" + 0.007*\"work\"')]\n"
     ]
    }
   ],
   "source": [
    "# retrain the model\n",
    "model = LdaModel(corpus, num_topics=10,id2word=dictionary,passes=5)\n",
    "\n",
    "pprint(model.show_topics())"
   ]
  },
  {
   "cell_type": "markdown",
   "metadata": {},
   "source": [
    "The new topics are better because compared to the 1 pass model the probabilities of each topic increased."
   ]
  },
  {
   "cell_type": "markdown",
   "metadata": {},
   "source": [
    "## Reflection questions"
   ]
  },
  {
   "cell_type": "markdown",
   "metadata": {},
   "source": [
    "The following reflection questions will help you prepare for the diagnostic test. Answer each of them in the form of a short text and put your answers in the cell below. You will get feedback on your answers from your lab assistant."
   ]
  },
  {
   "cell_type": "markdown",
   "metadata": {},
   "source": [
    "**RQ 3.1:** Based on your experiments in Problem&nbsp;2 and Problem&nbsp;3, what is the relation between the quality of a clustering and the number of clusters? What happens when the number of clusters is too low, or too high? For this particular data set, what would a &lsquo;good&rsquo; number of clusters be?\n",
    "\n",
    "**RQ 3.2:** Explain why it is important to monitor an LDA model for convergence and not simply use, say, 1000&nbsp;passes. How is the log likelihood used in this context? Were the topics from the multi-pass model &lsquo;better&rsquo; than the topics from the 1-pass model?\n",
    "\n",
    "**RQ 3.3:** What are the differences between $k$-means and LDA? When would you use one, when the other?"
   ]
  },
  {
   "cell_type": "markdown",
   "metadata": {},
   "source": [
    "*TODO: Enter your answers here*"
   ]
  },
  {
   "cell_type": "markdown",
   "metadata": {},
   "source": [
    "**Congratulations on finishing L3! 👍**"
   ]
  }
 ],
 "metadata": {
  "kernelspec": {
   "display_name": "Python 3 (ipykernel)",
   "language": "python",
   "name": "python3"
  },
  "language_info": {
   "codemirror_mode": {
    "name": "ipython",
    "version": 3
   },
   "file_extension": ".py",
   "mimetype": "text/x-python",
   "name": "python",
   "nbconvert_exporter": "python",
   "pygments_lexer": "ipython3",
   "version": "3.8.10"
  }
 },
 "nbformat": 4,
 "nbformat_minor": 2
}
